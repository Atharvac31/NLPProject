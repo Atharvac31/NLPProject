{
  "nbformat": 4,
  "nbformat_minor": 0,
  "metadata": {
    "colab": {
      "provenance": []
    },
    "kernelspec": {
      "name": "python3",
      "display_name": "Python 3"
    },
    "language_info": {
      "name": "python"
    }
  },
  "cells": [
    {
      "cell_type": "code",
      "execution_count": null,
      "metadata": {
        "colab": {
          "base_uri": "https://localhost:8080/"
        },
        "id": "rec8pkkznAeL",
        "outputId": "cc6b116d-c451-441b-b69c-a46c9013f7f5"
      },
      "outputs": [
        {
          "output_type": "stream",
          "name": "stdout",
          "text": [
            "Requirement already satisfied: spacy in /usr/local/lib/python3.11/dist-packages (3.8.4)\n",
            "Requirement already satisfied: imbalanced-learn in /usr/local/lib/python3.11/dist-packages (0.13.0)\n",
            "Requirement already satisfied: xgboost in /usr/local/lib/python3.11/dist-packages (2.1.4)\n",
            "Requirement already satisfied: ipywidgets in /usr/local/lib/python3.11/dist-packages (7.7.1)\n",
            "Requirement already satisfied: spacy-legacy<3.1.0,>=3.0.11 in /usr/local/lib/python3.11/dist-packages (from spacy) (3.0.12)\n",
            "Requirement already satisfied: spacy-loggers<2.0.0,>=1.0.0 in /usr/local/lib/python3.11/dist-packages (from spacy) (1.0.5)\n",
            "Requirement already satisfied: murmurhash<1.1.0,>=0.28.0 in /usr/local/lib/python3.11/dist-packages (from spacy) (1.0.12)\n",
            "Requirement already satisfied: cymem<2.1.0,>=2.0.2 in /usr/local/lib/python3.11/dist-packages (from spacy) (2.0.11)\n",
            "Requirement already satisfied: preshed<3.1.0,>=3.0.2 in /usr/local/lib/python3.11/dist-packages (from spacy) (3.0.9)\n",
            "Requirement already satisfied: thinc<8.4.0,>=8.3.4 in /usr/local/lib/python3.11/dist-packages (from spacy) (8.3.4)\n",
            "Requirement already satisfied: wasabi<1.2.0,>=0.9.1 in /usr/local/lib/python3.11/dist-packages (from spacy) (1.1.3)\n",
            "Requirement already satisfied: srsly<3.0.0,>=2.4.3 in /usr/local/lib/python3.11/dist-packages (from spacy) (2.5.1)\n",
            "Requirement already satisfied: catalogue<2.1.0,>=2.0.6 in /usr/local/lib/python3.11/dist-packages (from spacy) (2.0.10)\n",
            "Requirement already satisfied: weasel<0.5.0,>=0.1.0 in /usr/local/lib/python3.11/dist-packages (from spacy) (0.4.1)\n",
            "Requirement already satisfied: typer<1.0.0,>=0.3.0 in /usr/local/lib/python3.11/dist-packages (from spacy) (0.15.2)\n",
            "Requirement already satisfied: tqdm<5.0.0,>=4.38.0 in /usr/local/lib/python3.11/dist-packages (from spacy) (4.67.1)\n",
            "Requirement already satisfied: numpy>=1.19.0 in /usr/local/lib/python3.11/dist-packages (from spacy) (2.0.2)\n",
            "Requirement already satisfied: requests<3.0.0,>=2.13.0 in /usr/local/lib/python3.11/dist-packages (from spacy) (2.32.3)\n",
            "Requirement already satisfied: pydantic!=1.8,!=1.8.1,<3.0.0,>=1.7.4 in /usr/local/lib/python3.11/dist-packages (from spacy) (2.10.6)\n",
            "Requirement already satisfied: jinja2 in /usr/local/lib/python3.11/dist-packages (from spacy) (3.1.6)\n",
            "Requirement already satisfied: setuptools in /usr/local/lib/python3.11/dist-packages (from spacy) (75.1.0)\n",
            "Requirement already satisfied: packaging>=20.0 in /usr/local/lib/python3.11/dist-packages (from spacy) (24.2)\n",
            "Requirement already satisfied: langcodes<4.0.0,>=3.2.0 in /usr/local/lib/python3.11/dist-packages (from spacy) (3.5.0)\n",
            "Requirement already satisfied: scipy<2,>=1.10.1 in /usr/local/lib/python3.11/dist-packages (from imbalanced-learn) (1.14.1)\n",
            "Requirement already satisfied: scikit-learn<2,>=1.3.2 in /usr/local/lib/python3.11/dist-packages (from imbalanced-learn) (1.6.1)\n",
            "Requirement already satisfied: sklearn-compat<1,>=0.1 in /usr/local/lib/python3.11/dist-packages (from imbalanced-learn) (0.1.3)\n",
            "Requirement already satisfied: joblib<2,>=1.1.1 in /usr/local/lib/python3.11/dist-packages (from imbalanced-learn) (1.4.2)\n",
            "Requirement already satisfied: threadpoolctl<4,>=2.0.0 in /usr/local/lib/python3.11/dist-packages (from imbalanced-learn) (3.6.0)\n",
            "Requirement already satisfied: nvidia-nccl-cu12 in /usr/local/lib/python3.11/dist-packages (from xgboost) (2.21.5)\n",
            "Requirement already satisfied: ipykernel>=4.5.1 in /usr/local/lib/python3.11/dist-packages (from ipywidgets) (6.17.1)\n",
            "Requirement already satisfied: ipython-genutils~=0.2.0 in /usr/local/lib/python3.11/dist-packages (from ipywidgets) (0.2.0)\n",
            "Requirement already satisfied: traitlets>=4.3.1 in /usr/local/lib/python3.11/dist-packages (from ipywidgets) (5.7.1)\n",
            "Requirement already satisfied: widgetsnbextension~=3.6.0 in /usr/local/lib/python3.11/dist-packages (from ipywidgets) (3.6.10)\n",
            "Requirement already satisfied: ipython>=4.0.0 in /usr/local/lib/python3.11/dist-packages (from ipywidgets) (7.34.0)\n",
            "Requirement already satisfied: jupyterlab-widgets>=1.0.0 in /usr/local/lib/python3.11/dist-packages (from ipywidgets) (3.0.13)\n",
            "Requirement already satisfied: debugpy>=1.0 in /usr/local/lib/python3.11/dist-packages (from ipykernel>=4.5.1->ipywidgets) (1.8.0)\n",
            "Requirement already satisfied: jupyter-client>=6.1.12 in /usr/local/lib/python3.11/dist-packages (from ipykernel>=4.5.1->ipywidgets) (6.1.12)\n",
            "Requirement already satisfied: matplotlib-inline>=0.1 in /usr/local/lib/python3.11/dist-packages (from ipykernel>=4.5.1->ipywidgets) (0.1.7)\n",
            "Requirement already satisfied: nest-asyncio in /usr/local/lib/python3.11/dist-packages (from ipykernel>=4.5.1->ipywidgets) (1.6.0)\n",
            "Requirement already satisfied: psutil in /usr/local/lib/python3.11/dist-packages (from ipykernel>=4.5.1->ipywidgets) (5.9.5)\n",
            "Requirement already satisfied: pyzmq>=17 in /usr/local/lib/python3.11/dist-packages (from ipykernel>=4.5.1->ipywidgets) (24.0.1)\n",
            "Requirement already satisfied: tornado>=6.1 in /usr/local/lib/python3.11/dist-packages (from ipykernel>=4.5.1->ipywidgets) (6.4.2)\n",
            "Collecting jedi>=0.16 (from ipython>=4.0.0->ipywidgets)\n",
            "  Downloading jedi-0.19.2-py2.py3-none-any.whl.metadata (22 kB)\n",
            "Requirement already satisfied: decorator in /usr/local/lib/python3.11/dist-packages (from ipython>=4.0.0->ipywidgets) (4.4.2)\n",
            "Requirement already satisfied: pickleshare in /usr/local/lib/python3.11/dist-packages (from ipython>=4.0.0->ipywidgets) (0.7.5)\n",
            "Requirement already satisfied: prompt-toolkit!=3.0.0,!=3.0.1,<3.1.0,>=2.0.0 in /usr/local/lib/python3.11/dist-packages (from ipython>=4.0.0->ipywidgets) (3.0.50)\n",
            "Requirement already satisfied: pygments in /usr/local/lib/python3.11/dist-packages (from ipython>=4.0.0->ipywidgets) (2.18.0)\n",
            "Requirement already satisfied: backcall in /usr/local/lib/python3.11/dist-packages (from ipython>=4.0.0->ipywidgets) (0.2.0)\n",
            "Requirement already satisfied: pexpect>4.3 in /usr/local/lib/python3.11/dist-packages (from ipython>=4.0.0->ipywidgets) (4.9.0)\n",
            "Requirement already satisfied: language-data>=1.2 in /usr/local/lib/python3.11/dist-packages (from langcodes<4.0.0,>=3.2.0->spacy) (1.3.0)\n",
            "Requirement already satisfied: annotated-types>=0.6.0 in /usr/local/lib/python3.11/dist-packages (from pydantic!=1.8,!=1.8.1,<3.0.0,>=1.7.4->spacy) (0.7.0)\n",
            "Requirement already satisfied: pydantic-core==2.27.2 in /usr/local/lib/python3.11/dist-packages (from pydantic!=1.8,!=1.8.1,<3.0.0,>=1.7.4->spacy) (2.27.2)\n",
            "Requirement already satisfied: typing-extensions>=4.12.2 in /usr/local/lib/python3.11/dist-packages (from pydantic!=1.8,!=1.8.1,<3.0.0,>=1.7.4->spacy) (4.12.2)\n",
            "Requirement already satisfied: charset-normalizer<4,>=2 in /usr/local/lib/python3.11/dist-packages (from requests<3.0.0,>=2.13.0->spacy) (3.4.1)\n",
            "Requirement already satisfied: idna<4,>=2.5 in /usr/local/lib/python3.11/dist-packages (from requests<3.0.0,>=2.13.0->spacy) (3.10)\n",
            "Requirement already satisfied: urllib3<3,>=1.21.1 in /usr/local/lib/python3.11/dist-packages (from requests<3.0.0,>=2.13.0->spacy) (2.3.0)\n",
            "Requirement already satisfied: certifi>=2017.4.17 in /usr/local/lib/python3.11/dist-packages (from requests<3.0.0,>=2.13.0->spacy) (2025.1.31)\n",
            "Requirement already satisfied: blis<1.3.0,>=1.2.0 in /usr/local/lib/python3.11/dist-packages (from thinc<8.4.0,>=8.3.4->spacy) (1.2.0)\n",
            "Requirement already satisfied: confection<1.0.0,>=0.0.1 in /usr/local/lib/python3.11/dist-packages (from thinc<8.4.0,>=8.3.4->spacy) (0.1.5)\n",
            "Requirement already satisfied: click>=8.0.0 in /usr/local/lib/python3.11/dist-packages (from typer<1.0.0,>=0.3.0->spacy) (8.1.8)\n",
            "Requirement already satisfied: shellingham>=1.3.0 in /usr/local/lib/python3.11/dist-packages (from typer<1.0.0,>=0.3.0->spacy) (1.5.4)\n",
            "Requirement already satisfied: rich>=10.11.0 in /usr/local/lib/python3.11/dist-packages (from typer<1.0.0,>=0.3.0->spacy) (13.9.4)\n",
            "Requirement already satisfied: cloudpathlib<1.0.0,>=0.7.0 in /usr/local/lib/python3.11/dist-packages (from weasel<0.5.0,>=0.1.0->spacy) (0.21.0)\n",
            "Requirement already satisfied: smart-open<8.0.0,>=5.2.1 in /usr/local/lib/python3.11/dist-packages (from weasel<0.5.0,>=0.1.0->spacy) (7.1.0)\n",
            "Requirement already satisfied: notebook>=4.4.1 in /usr/local/lib/python3.11/dist-packages (from widgetsnbextension~=3.6.0->ipywidgets) (6.5.7)\n",
            "Requirement already satisfied: MarkupSafe>=2.0 in /usr/local/lib/python3.11/dist-packages (from jinja2->spacy) (3.0.2)\n",
            "Requirement already satisfied: parso<0.9.0,>=0.8.4 in /usr/local/lib/python3.11/dist-packages (from jedi>=0.16->ipython>=4.0.0->ipywidgets) (0.8.4)\n",
            "Requirement already satisfied: jupyter-core>=4.6.0 in /usr/local/lib/python3.11/dist-packages (from jupyter-client>=6.1.12->ipykernel>=4.5.1->ipywidgets) (5.7.2)\n",
            "Requirement already satisfied: python-dateutil>=2.1 in /usr/local/lib/python3.11/dist-packages (from jupyter-client>=6.1.12->ipykernel>=4.5.1->ipywidgets) (2.8.2)\n",
            "Requirement already satisfied: marisa-trie>=1.1.0 in /usr/local/lib/python3.11/dist-packages (from language-data>=1.2->langcodes<4.0.0,>=3.2.0->spacy) (1.2.1)\n",
            "Requirement already satisfied: argon2-cffi in /usr/local/lib/python3.11/dist-packages (from notebook>=4.4.1->widgetsnbextension~=3.6.0->ipywidgets) (23.1.0)\n",
            "Requirement already satisfied: nbformat in /usr/local/lib/python3.11/dist-packages (from notebook>=4.4.1->widgetsnbextension~=3.6.0->ipywidgets) (5.10.4)\n",
            "Requirement already satisfied: nbconvert>=5 in /usr/local/lib/python3.11/dist-packages (from notebook>=4.4.1->widgetsnbextension~=3.6.0->ipywidgets) (7.16.6)\n",
            "Requirement already satisfied: Send2Trash>=1.8.0 in /usr/local/lib/python3.11/dist-packages (from notebook>=4.4.1->widgetsnbextension~=3.6.0->ipywidgets) (1.8.3)\n",
            "Requirement already satisfied: terminado>=0.8.3 in /usr/local/lib/python3.11/dist-packages (from notebook>=4.4.1->widgetsnbextension~=3.6.0->ipywidgets) (0.18.1)\n",
            "Requirement already satisfied: prometheus-client in /usr/local/lib/python3.11/dist-packages (from notebook>=4.4.1->widgetsnbextension~=3.6.0->ipywidgets) (0.21.1)\n",
            "Requirement already satisfied: nbclassic>=0.4.7 in /usr/local/lib/python3.11/dist-packages (from notebook>=4.4.1->widgetsnbextension~=3.6.0->ipywidgets) (1.2.0)\n",
            "Requirement already satisfied: ptyprocess>=0.5 in /usr/local/lib/python3.11/dist-packages (from pexpect>4.3->ipython>=4.0.0->ipywidgets) (0.7.0)\n",
            "Requirement already satisfied: wcwidth in /usr/local/lib/python3.11/dist-packages (from prompt-toolkit!=3.0.0,!=3.0.1,<3.1.0,>=2.0.0->ipython>=4.0.0->ipywidgets) (0.2.13)\n",
            "Requirement already satisfied: markdown-it-py>=2.2.0 in /usr/local/lib/python3.11/dist-packages (from rich>=10.11.0->typer<1.0.0,>=0.3.0->spacy) (3.0.0)\n",
            "Requirement already satisfied: wrapt in /usr/local/lib/python3.11/dist-packages (from smart-open<8.0.0,>=5.2.1->weasel<0.5.0,>=0.1.0->spacy) (1.17.2)\n",
            "Requirement already satisfied: platformdirs>=2.5 in /usr/local/lib/python3.11/dist-packages (from jupyter-core>=4.6.0->jupyter-client>=6.1.12->ipykernel>=4.5.1->ipywidgets) (4.3.7)\n",
            "Requirement already satisfied: mdurl~=0.1 in /usr/local/lib/python3.11/dist-packages (from markdown-it-py>=2.2.0->rich>=10.11.0->typer<1.0.0,>=0.3.0->spacy) (0.1.2)\n",
            "Requirement already satisfied: notebook-shim>=0.2.3 in /usr/local/lib/python3.11/dist-packages (from nbclassic>=0.4.7->notebook>=4.4.1->widgetsnbextension~=3.6.0->ipywidgets) (0.2.4)\n",
            "Requirement already satisfied: beautifulsoup4 in /usr/local/lib/python3.11/dist-packages (from nbconvert>=5->notebook>=4.4.1->widgetsnbextension~=3.6.0->ipywidgets) (4.13.3)\n",
            "Requirement already satisfied: bleach!=5.0.0 in /usr/local/lib/python3.11/dist-packages (from bleach[css]!=5.0.0->nbconvert>=5->notebook>=4.4.1->widgetsnbextension~=3.6.0->ipywidgets) (6.2.0)\n",
            "Requirement already satisfied: defusedxml in /usr/local/lib/python3.11/dist-packages (from nbconvert>=5->notebook>=4.4.1->widgetsnbextension~=3.6.0->ipywidgets) (0.7.1)\n",
            "Requirement already satisfied: jupyterlab-pygments in /usr/local/lib/python3.11/dist-packages (from nbconvert>=5->notebook>=4.4.1->widgetsnbextension~=3.6.0->ipywidgets) (0.3.0)\n",
            "Requirement already satisfied: mistune<4,>=2.0.3 in /usr/local/lib/python3.11/dist-packages (from nbconvert>=5->notebook>=4.4.1->widgetsnbextension~=3.6.0->ipywidgets) (3.1.3)\n",
            "Requirement already satisfied: nbclient>=0.5.0 in /usr/local/lib/python3.11/dist-packages (from nbconvert>=5->notebook>=4.4.1->widgetsnbextension~=3.6.0->ipywidgets) (0.10.2)\n",
            "Requirement already satisfied: pandocfilters>=1.4.1 in /usr/local/lib/python3.11/dist-packages (from nbconvert>=5->notebook>=4.4.1->widgetsnbextension~=3.6.0->ipywidgets) (1.5.1)\n",
            "Requirement already satisfied: fastjsonschema>=2.15 in /usr/local/lib/python3.11/dist-packages (from nbformat->notebook>=4.4.1->widgetsnbextension~=3.6.0->ipywidgets) (2.21.1)\n",
            "Requirement already satisfied: jsonschema>=2.6 in /usr/local/lib/python3.11/dist-packages (from nbformat->notebook>=4.4.1->widgetsnbextension~=3.6.0->ipywidgets) (4.23.0)\n",
            "Requirement already satisfied: six>=1.5 in /usr/local/lib/python3.11/dist-packages (from python-dateutil>=2.1->jupyter-client>=6.1.12->ipykernel>=4.5.1->ipywidgets) (1.17.0)\n",
            "Requirement already satisfied: argon2-cffi-bindings in /usr/local/lib/python3.11/dist-packages (from argon2-cffi->notebook>=4.4.1->widgetsnbextension~=3.6.0->ipywidgets) (21.2.0)\n",
            "Requirement already satisfied: webencodings in /usr/local/lib/python3.11/dist-packages (from bleach!=5.0.0->bleach[css]!=5.0.0->nbconvert>=5->notebook>=4.4.1->widgetsnbextension~=3.6.0->ipywidgets) (0.5.1)\n",
            "Requirement already satisfied: tinycss2<1.5,>=1.1.0 in /usr/local/lib/python3.11/dist-packages (from bleach[css]!=5.0.0->nbconvert>=5->notebook>=4.4.1->widgetsnbextension~=3.6.0->ipywidgets) (1.4.0)\n",
            "Requirement already satisfied: attrs>=22.2.0 in /usr/local/lib/python3.11/dist-packages (from jsonschema>=2.6->nbformat->notebook>=4.4.1->widgetsnbextension~=3.6.0->ipywidgets) (25.3.0)\n",
            "Requirement already satisfied: jsonschema-specifications>=2023.03.6 in /usr/local/lib/python3.11/dist-packages (from jsonschema>=2.6->nbformat->notebook>=4.4.1->widgetsnbextension~=3.6.0->ipywidgets) (2024.10.1)\n",
            "Requirement already satisfied: referencing>=0.28.4 in /usr/local/lib/python3.11/dist-packages (from jsonschema>=2.6->nbformat->notebook>=4.4.1->widgetsnbextension~=3.6.0->ipywidgets) (0.36.2)\n",
            "Requirement already satisfied: rpds-py>=0.7.1 in /usr/local/lib/python3.11/dist-packages (from jsonschema>=2.6->nbformat->notebook>=4.4.1->widgetsnbextension~=3.6.0->ipywidgets) (0.23.1)\n",
            "Requirement already satisfied: jupyter-server<3,>=1.8 in /usr/local/lib/python3.11/dist-packages (from notebook-shim>=0.2.3->nbclassic>=0.4.7->notebook>=4.4.1->widgetsnbextension~=3.6.0->ipywidgets) (1.16.0)\n",
            "Requirement already satisfied: cffi>=1.0.1 in /usr/local/lib/python3.11/dist-packages (from argon2-cffi-bindings->argon2-cffi->notebook>=4.4.1->widgetsnbextension~=3.6.0->ipywidgets) (1.17.1)\n",
            "Requirement already satisfied: soupsieve>1.2 in /usr/local/lib/python3.11/dist-packages (from beautifulsoup4->nbconvert>=5->notebook>=4.4.1->widgetsnbextension~=3.6.0->ipywidgets) (2.6)\n",
            "Requirement already satisfied: pycparser in /usr/local/lib/python3.11/dist-packages (from cffi>=1.0.1->argon2-cffi-bindings->argon2-cffi->notebook>=4.4.1->widgetsnbextension~=3.6.0->ipywidgets) (2.22)\n",
            "Requirement already satisfied: anyio>=3.1.0 in /usr/local/lib/python3.11/dist-packages (from jupyter-server<3,>=1.8->notebook-shim>=0.2.3->nbclassic>=0.4.7->notebook>=4.4.1->widgetsnbextension~=3.6.0->ipywidgets) (4.9.0)\n",
            "Requirement already satisfied: websocket-client in /usr/local/lib/python3.11/dist-packages (from jupyter-server<3,>=1.8->notebook-shim>=0.2.3->nbclassic>=0.4.7->notebook>=4.4.1->widgetsnbextension~=3.6.0->ipywidgets) (1.8.0)\n",
            "Requirement already satisfied: sniffio>=1.1 in /usr/local/lib/python3.11/dist-packages (from anyio>=3.1.0->jupyter-server<3,>=1.8->notebook-shim>=0.2.3->nbclassic>=0.4.7->notebook>=4.4.1->widgetsnbextension~=3.6.0->ipywidgets) (1.3.1)\n",
            "Downloading jedi-0.19.2-py2.py3-none-any.whl (1.6 MB)\n",
            "\u001b[2K   \u001b[90m━━━━━━━━━━━━━━━━━━━━━━━━━━━━━━━━━━━━━━━━\u001b[0m \u001b[32m1.6/1.6 MB\u001b[0m \u001b[31m10.2 MB/s\u001b[0m eta \u001b[36m0:00:00\u001b[0m\n",
            "\u001b[?25hInstalling collected packages: jedi\n",
            "Successfully installed jedi-0.19.2\n",
            "Collecting en-core-web-sm==3.8.0\n",
            "  Downloading https://github.com/explosion/spacy-models/releases/download/en_core_web_sm-3.8.0/en_core_web_sm-3.8.0-py3-none-any.whl (12.8 MB)\n",
            "\u001b[2K     \u001b[90m━━━━━━━━━━━━━━━━━━━━━━━━━━━━━━━━━━━━━━━━\u001b[0m \u001b[32m12.8/12.8 MB\u001b[0m \u001b[31m22.0 MB/s\u001b[0m eta \u001b[36m0:00:00\u001b[0m\n",
            "\u001b[?25h\u001b[38;5;2m✔ Download and installation successful\u001b[0m\n",
            "You can now load the package via spacy.load('en_core_web_sm')\n",
            "\u001b[38;5;3m⚠ Restart to reload dependencies\u001b[0m\n",
            "If you are in a Jupyter or Colab notebook, you may need to restart Python in\n",
            "order to load all the package's dependencies. You can do this by selecting the\n",
            "'Restart kernel' or 'Restart runtime' option.\n"
          ]
        }
      ],
      "source": [
        "# Install necessary libraries\n",
        "!pip install spacy imbalanced-learn xgboost ipywidgets\n",
        "!python -m spacy download en_core_web_sm\n"
      ]
    },
    {
      "cell_type": "code",
      "source": [
        "!pip install textstat"
      ],
      "metadata": {
        "colab": {
          "base_uri": "https://localhost:8080/"
        },
        "id": "nI97UOJlwHvA",
        "outputId": "2d21e689-41d1-44e3-af30-334955aa29ce"
      },
      "execution_count": null,
      "outputs": [
        {
          "output_type": "stream",
          "name": "stdout",
          "text": [
            "Collecting textstat\n",
            "  Downloading textstat-0.7.5-py3-none-any.whl.metadata (15 kB)\n",
            "Collecting pyphen (from textstat)\n",
            "  Downloading pyphen-0.17.2-py3-none-any.whl.metadata (3.2 kB)\n",
            "Collecting cmudict (from textstat)\n",
            "  Downloading cmudict-1.0.32-py3-none-any.whl.metadata (3.6 kB)\n",
            "Requirement already satisfied: setuptools in /usr/local/lib/python3.11/dist-packages (from textstat) (75.1.0)\n",
            "Requirement already satisfied: importlib-metadata>=5 in /usr/local/lib/python3.11/dist-packages (from cmudict->textstat) (8.6.1)\n",
            "Requirement already satisfied: importlib-resources>=5 in /usr/local/lib/python3.11/dist-packages (from cmudict->textstat) (6.5.2)\n",
            "Requirement already satisfied: zipp>=3.20 in /usr/local/lib/python3.11/dist-packages (from importlib-metadata>=5->cmudict->textstat) (3.21.0)\n",
            "Downloading textstat-0.7.5-py3-none-any.whl (105 kB)\n",
            "\u001b[2K   \u001b[90m━━━━━━━━━━━━━━━━━━━━━━━━━━━━━━━━━━━━━━━━\u001b[0m \u001b[32m105.3/105.3 kB\u001b[0m \u001b[31m5.2 MB/s\u001b[0m eta \u001b[36m0:00:00\u001b[0m\n",
            "\u001b[?25hDownloading cmudict-1.0.32-py3-none-any.whl (939 kB)\n",
            "\u001b[2K   \u001b[90m━━━━━━━━━━━━━━━━━━━━━━━━━━━━━━━━━━━━━━━━\u001b[0m \u001b[32m939.4/939.4 kB\u001b[0m \u001b[31m21.9 MB/s\u001b[0m eta \u001b[36m0:00:00\u001b[0m\n",
            "\u001b[?25hDownloading pyphen-0.17.2-py3-none-any.whl (2.1 MB)\n",
            "\u001b[2K   \u001b[90m━━━━━━━━━━━━━━━━━━━━━━━━━━━━━━━━━━━━━━━━\u001b[0m \u001b[32m2.1/2.1 MB\u001b[0m \u001b[31m21.9 MB/s\u001b[0m eta \u001b[36m0:00:00\u001b[0m\n",
            "\u001b[?25hInstalling collected packages: pyphen, cmudict, textstat\n",
            "Successfully installed cmudict-1.0.32 pyphen-0.17.2 textstat-0.7.5\n"
          ]
        }
      ]
    },
    {
      "cell_type": "markdown",
      "source": [
        "# **1. Setup and Initialization**"
      ],
      "metadata": {
        "id": "n-h5JIaem3QT"
      }
    },
    {
      "cell_type": "code",
      "source": [
        "# Import libraries\n",
        "import pandas as pd\n",
        "import joblib\n",
        "import re\n",
        "import spacy\n",
        "import numpy as np\n",
        "import scipy.sparse as sp\n",
        "from scipy.sparse import hstack, csr_matrix\n",
        "import matplotlib.pyplot as plt\n",
        "import seaborn as sns\n",
        "import warnings\n",
        "from pathlib import Path\n",
        "from sklearn.preprocessing import LabelEncoder\n",
        "from sklearn.feature_extraction.text import CountVectorizer, TfidfVectorizer\n",
        "from sklearn.model_selection import train_test_split, StratifiedKFold\n",
        "from sklearn.metrics import accuracy_score, classification_report, confusion_matrix, f1_score\n",
        "from sklearn.exceptions import ConvergenceWarning\n",
        "from xgboost import XGBClassifier\n",
        "from sklearn.linear_model import LogisticRegression\n",
        "from sklearn.ensemble import RandomForestClassifier\n",
        "from sklearn.naive_bayes import MultinomialNB\n",
        "from imblearn.over_sampling import SMOTE\n",
        "from imblearn.pipeline import Pipeline as ImbPipeline\n",
        "from google.colab import drive\n",
        "from textstat import flesch_reading_ease\n",
        "from collections import Counter\n",
        "\n",
        "# Suppress warnings\n",
        "warnings.filterwarnings(\"ignore\", category=UserWarning, message=\".*use_label_encoder.*\")\n",
        "warnings.filterwarnings(\"ignore\", category=ConvergenceWarning)\n",
        "warnings.filterwarnings(\"ignore\", category=FutureWarning)\n",
        "\n",
        "# Mount Google Drive\n",
        "drive.mount('/content/drive')\n",
        "\n",
        "# Initialize spaCy\n",
        "nlp = spacy.load(\"en_core_web_sm\", disable=[\"parser\", \"ner\"])\n",
        "\n",
        "# Configure display options\n",
        "pd.set_option('display.max_colwidth', 100)\n",
        "plt.style.use('ggplot')\n",
        "\n",
        "# Define dataset path\n",
        "data_path = Path(\"/content/drive/My Drive/NLP/modified_balanced_job_dataset.csv\")"
      ],
      "metadata": {
        "colab": {
          "base_uri": "https://localhost:8080/"
        },
        "id": "5mh_KD9LpSJJ",
        "outputId": "391e70f5-91b9-40ed-a539-5f812d4ce244"
      },
      "execution_count": null,
      "outputs": [
        {
          "output_type": "stream",
          "name": "stdout",
          "text": [
            "Drive already mounted at /content/drive; to attempt to forcibly remount, call drive.mount(\"/content/drive\", force_remount=True).\n"
          ]
        }
      ]
    },
    {
      "cell_type": "markdown",
      "source": [
        "# **2. Data Loading and Preprocessing**"
      ],
      "metadata": {
        "id": "OeTLgjnHnKVG"
      }
    },
    {
      "cell_type": "code",
      "source": [
        "def load_data(path):\n",
        "    \"\"\"Load and preprocess the dataset\"\"\"\n",
        "    df = pd.read_csv(path)\n",
        "\n",
        "    # Verify necessary columns\n",
        "    required_columns = [\"Description\", \"Relevance\"]\n",
        "    if not all(col in df.columns for col in required_columns):\n",
        "        raise ValueError(f\"Expected columns {required_columns} not found. Existing columns: {df.columns.tolist()}\")\n",
        "\n",
        "    # Encode target labels\n",
        "    le = LabelEncoder()\n",
        "    df['encoded_labels'] = le.fit_transform(df['Relevance'].astype(str).str.strip().str.lower())\n",
        "\n",
        "    return df, le.classes_, le\n",
        "\n",
        "def preprocess_text(text):\n",
        "    \"\"\"Clean and lemmatize text\"\"\"\n",
        "    text = re.sub(r'[^a-zA-Z\\s]', '', text)\n",
        "    doc = nlp(text.lower())\n",
        "    lemmas = [token.lemma_ for token in doc if not token.is_stop and token.is_alpha and len(token.lemma_) > 2]\n",
        "    return ' '.join(lemmas)"
      ],
      "metadata": {
        "id": "UU4Kmo4-fgVr"
      },
      "execution_count": null,
      "outputs": []
    },
    {
      "cell_type": "code",
      "source": [],
      "metadata": {
        "id": "vgm_6MKY2a9C"
      },
      "execution_count": null,
      "outputs": []
    },
    {
      "cell_type": "markdown",
      "source": [
        "# **3. Feature Engineering**"
      ],
      "metadata": {
        "id": "VRQslOXwnSKV"
      }
    },
    {
      "cell_type": "code",
      "source": [
        "def extract_pos_features(text):\n",
        "    \"\"\"Extract part-of-speech features from text\"\"\"\n",
        "    doc = nlp(text)\n",
        "    pos_counts = Counter([token.pos_ for token in doc])\n",
        "    total_tokens = len(doc)\n",
        "\n",
        "    # Calculate POS ratios\n",
        "    features = {\n",
        "        'noun_ratio': pos_counts.get('NOUN', 0) / total_tokens if total_tokens > 0 else 0,\n",
        "        'verb_ratio': pos_counts.get('VERB', 0) / total_tokens if total_tokens > 0 else 0,\n",
        "        'adj_ratio': pos_counts.get('ADJ', 0) / total_tokens if total_tokens > 0 else 0,\n",
        "        'adv_ratio': pos_counts.get('ADV', 0) / total_tokens if total_tokens > 0 else 0\n",
        "    }\n",
        "    return features\n",
        "\n",
        "def extract_readability_features(text):\n",
        "    \"\"\"Extract readability features from text\"\"\"\n",
        "    try:\n",
        "        fre = flesch_reading_ease(text)\n",
        "    except:\n",
        "        fre = 50  # Default value if calculation fails\n",
        "\n",
        "    words = text.split()\n",
        "    avg_word_length = sum(len(word) for word in words) / len(words) if words else 0\n",
        "\n",
        "    sentences = re.split(r'[.!?]+', text)\n",
        "    sentences = [s.strip() for s in sentences if s.strip()]\n",
        "    avg_sentence_length = sum(len(s.split()) for s in sentences) / len(sentences) if sentences else 0\n",
        "\n",
        "    return {\n",
        "        'flesch_reading_ease': fre,\n",
        "        'avg_word_length': avg_word_length,\n",
        "        'avg_sentence_length': avg_sentence_length\n",
        "    }\n",
        "\n",
        "def extract_technical_content_features(text):\n",
        "    \"\"\"Extract features related to technical content\"\"\"\n",
        "    technical_keywords = ['python', 'java', 'javascript', 'c++', 'sql', 'database', 'api',\n",
        "                         'analytics', 'machine learning', 'algorithm', 'framework', 'software',\n",
        "                         'development', 'engineering', 'programming', 'technical', 'technology',\n",
        "                         'architect', 'developer', 'engineer', 'analyst', 'data', 'cloud']\n",
        "\n",
        "    text_lower = text.lower()\n",
        "    tech_keyword_count = sum(text_lower.count(kw) for kw in technical_keywords)\n",
        "    numeric_count = len(re.findall(r'\\d+', text))\n",
        "\n",
        "    return {\n",
        "        'tech_keyword_density': tech_keyword_count / len(text.split()) if text.split() else 0,\n",
        "        'numeric_density': numeric_count / len(text.split()) if text.split() else 0\n",
        "    }\n",
        "\n",
        "def generate_nlp_features(df):\n",
        "    \"\"\"Generate additional NLP features\"\"\"\n",
        "    nlp_features = []\n",
        "\n",
        "    for _, row in df.iterrows():\n",
        "        text = row['Description']\n",
        "        pos_features = extract_pos_features(text)\n",
        "        readability_features = extract_readability_features(text)\n",
        "        technical_features = extract_technical_content_features(text)\n",
        "        features = {**pos_features, **readability_features, **technical_features}\n",
        "        nlp_features.append(features)\n",
        "\n",
        "    nlp_features_df = pd.DataFrame(nlp_features)\n",
        "    nlp_features_sparse = csr_matrix(nlp_features_df.values)\n",
        "    return nlp_features_sparse, nlp_features_df"
      ],
      "metadata": {
        "id": "8vFh7q_vfjTV"
      },
      "execution_count": null,
      "outputs": []
    },
    {
      "cell_type": "markdown",
      "source": [
        "# **4. Model Validation Functions**"
      ],
      "metadata": {
        "id": "Oh2cLHojnVSn"
      }
    },
    {
      "cell_type": "code",
      "source": [
        "def validate_xgboost(X_train, y_train, X_val, y_val):\n",
        "    \"\"\"Validate XGBoost model with SMOTE\"\"\"\n",
        "    model = XGBClassifier(eval_metric='logloss')\n",
        "    pipeline = ImbPipeline([('smote', SMOTE(random_state=42)), ('model', model)])\n",
        "    pipeline.fit(X_train, y_train)\n",
        "    y_pred = pipeline.predict(X_val)\n",
        "    return {\n",
        "        'accuracy': accuracy_score(y_val, y_pred),\n",
        "        'f1': f1_score(y_val, y_pred, average='weighted'),\n",
        "        'model': pipeline\n",
        "    }\n",
        "\n",
        "def validate_logistic_regression(X_train, y_train, X_val, y_val):\n",
        "    \"\"\"Validate Logistic Regression model with SMOTE\"\"\"\n",
        "    model = LogisticRegression(max_iter=2000, solver='saga', n_jobs=-1)\n",
        "    pipeline = ImbPipeline([('smote', SMOTE(random_state=42)), ('model', model)])\n",
        "    pipeline.fit(X_train, y_train)\n",
        "    y_pred = pipeline.predict(X_val)\n",
        "    return {\n",
        "        'accuracy': accuracy_score(y_val, y_pred),\n",
        "        'f1': f1_score(y_val, y_pred, average='weighted'),\n",
        "        'model': pipeline\n",
        "    }\n",
        "\n",
        "def validate_random_forest(X_train, y_train, X_val, y_val):\n",
        "    \"\"\"Validate Random Forest model with SMOTE\"\"\"\n",
        "    model = RandomForestClassifier(n_jobs=-1)\n",
        "    pipeline = ImbPipeline([('smote', SMOTE(random_state=42)), ('model', model)])\n",
        "    pipeline.fit(X_train, y_train)\n",
        "    y_pred = pipeline.predict(X_val)\n",
        "    return {\n",
        "        'accuracy': accuracy_score(y_val, y_pred),\n",
        "        'f1': f1_score(y_val, y_pred, average='weighted'),\n",
        "        'model': pipeline\n",
        "    }\n",
        "\n",
        "def validate_naive_bayes(X_train, y_train, X_val, y_val):\n",
        "    \"\"\"Validate Naive Bayes model with SMOTE\"\"\"\n",
        "    model = MultinomialNB()\n",
        "    pipeline = ImbPipeline([('smote', SMOTE(random_state=42)), ('model', model)])\n",
        "    pipeline.fit(X_train, y_train)\n",
        "    y_pred = pipeline.predict(X_val)\n",
        "    return {\n",
        "        'accuracy': accuracy_score(y_val, y_pred),\n",
        "        'f1': f1_score(y_val, y_pred, average='weighted'),\n",
        "        'model': pipeline\n",
        "    }\n",
        "\n",
        "def cross_validate_model(model_func, X, y, n_splits=5):\n",
        "    \"\"\"Perform cross-validation for a model\"\"\"\n",
        "    skf = StratifiedKFold(n_splits=n_splits, shuffle=True, random_state=42)\n",
        "    accuracies = []\n",
        "    f1_scores = []\n",
        "    models = []\n",
        "\n",
        "    for train_idx, val_idx in skf.split(X, y):\n",
        "        X_train, X_val = X[train_idx], X[val_idx]\n",
        "        y_train, y_val = y[train_idx], y[val_idx]\n",
        "\n",
        "        result = model_func(X_train, y_train, X_val, y_val)\n",
        "        accuracies.append(result['accuracy'])\n",
        "        f1_scores.append(result['f1'])\n",
        "        models.append(result['model'])\n",
        "\n",
        "    return {\n",
        "        'mean_accuracy': np.mean(accuracies),\n",
        "        'mean_f1': np.mean(f1_scores),\n",
        "        'models': models\n",
        "    }"
      ],
      "metadata": {
        "id": "SFxool1IfmkB"
      },
      "execution_count": null,
      "outputs": []
    },
    {
      "cell_type": "markdown",
      "source": [
        "# **5. Model Training and Evaluation**"
      ],
      "metadata": {
        "id": "tNq-k-qeneKu"
      }
    },
    {
      "cell_type": "code",
      "source": [
        "def main():\n",
        "    # Load and prepare data\n",
        "    df, class_names, le = load_data(data_path)\n",
        "\n",
        "    # Generate features\n",
        "    df['cleaned_text'] = df['Description'].apply(preprocess_text)\n",
        "    tfidf = TfidfVectorizer(max_features=2000, ngram_range=(1, 2))\n",
        "    X_tfidf = tfidf.fit_transform(df['cleaned_text'])\n",
        "\n",
        "    bow = CountVectorizer(max_features=2000)\n",
        "    X_bow = bow.fit_transform(df['cleaned_text'])\n",
        "\n",
        "    X_nlp, nlp_features_df = generate_nlp_features(df)\n",
        "    X_combined = hstack([X_tfidf, X_nlp])\n",
        "    X_all_features = hstack([X_tfidf, X_bow, X_nlp])\n",
        "\n",
        "    feature_sets = {\n",
        "        'TF-IDF': X_tfidf,\n",
        "        'BoW': X_bow,\n",
        "        'NLP-Features': X_nlp,\n",
        "        'TF-IDF+NLP': X_combined,\n",
        "        'All-Features': X_all_features\n",
        "    }\n",
        "\n",
        "    # Train and evaluate models\n",
        "    results = train_and_evaluate_models(feature_sets, df, class_names)\n",
        "\n",
        "    # Save best model\n",
        "    best_result = results.loc[results['test_accuracy'].idxmax()]\n",
        "    best_model_name = best_result['model']\n",
        "    best_feature_set = best_result['features']\n",
        "    print(f\"\\nBest model: {best_model_name} with {best_feature_set}\")\n",
        "\n",
        "    # Save artifacts\n",
        "    joblib.dump(le, 'label_encoder.pkl')\n",
        "    joblib.dump(tfidf, 'tfidf_vectorizer.pkl')\n",
        "    joblib.dump(bow, 'bow_vectorizer.pkl')\n",
        "\n",
        "    print(\"Processing completed successfully!\")\n",
        "\n",
        "if __name__ == \"__main__\":\n",
        "    main()"
      ],
      "metadata": {
        "colab": {
          "base_uri": "https://localhost:8080/",
          "height": 321
        },
        "id": "gn4I967Sfpfb",
        "outputId": "28f52b0f-e112-4448-875f-97b6bd840e14"
      },
      "execution_count": null,
      "outputs": [
        {
          "output_type": "error",
          "ename": "FileNotFoundError",
          "evalue": "[Errno 2] No such file or directory: '/content/drive/My Drive/NLP/modified_balanced_job_dataset.csv'",
          "traceback": [
            "\u001b[0;31m---------------------------------------------------------------------------\u001b[0m",
            "\u001b[0;31mFileNotFoundError\u001b[0m                         Traceback (most recent call last)",
            "\u001b[0;32m<ipython-input-9-a2403d0cb7b3>\u001b[0m in \u001b[0;36m<cell line: 0>\u001b[0;34m()\u001b[0m\n\u001b[1;32m     40\u001b[0m \u001b[0;34m\u001b[0m\u001b[0m\n\u001b[1;32m     41\u001b[0m \u001b[0;32mif\u001b[0m \u001b[0m__name__\u001b[0m \u001b[0;34m==\u001b[0m \u001b[0;34m\"__main__\"\u001b[0m\u001b[0;34m:\u001b[0m\u001b[0;34m\u001b[0m\u001b[0;34m\u001b[0m\u001b[0m\n\u001b[0;32m---> 42\u001b[0;31m     \u001b[0mmain\u001b[0m\u001b[0;34m(\u001b[0m\u001b[0;34m)\u001b[0m\u001b[0;34m\u001b[0m\u001b[0;34m\u001b[0m\u001b[0m\n\u001b[0m",
            "\u001b[0;32m<ipython-input-9-a2403d0cb7b3>\u001b[0m in \u001b[0;36mmain\u001b[0;34m()\u001b[0m\n\u001b[1;32m      1\u001b[0m \u001b[0;32mdef\u001b[0m \u001b[0mmain\u001b[0m\u001b[0;34m(\u001b[0m\u001b[0;34m)\u001b[0m\u001b[0;34m:\u001b[0m\u001b[0;34m\u001b[0m\u001b[0;34m\u001b[0m\u001b[0m\n\u001b[1;32m      2\u001b[0m     \u001b[0;31m# Load and prepare data\u001b[0m\u001b[0;34m\u001b[0m\u001b[0;34m\u001b[0m\u001b[0m\n\u001b[0;32m----> 3\u001b[0;31m     \u001b[0mdf\u001b[0m\u001b[0;34m,\u001b[0m \u001b[0mclass_names\u001b[0m\u001b[0;34m,\u001b[0m \u001b[0mle\u001b[0m \u001b[0;34m=\u001b[0m \u001b[0mload_data\u001b[0m\u001b[0;34m(\u001b[0m\u001b[0mdata_path\u001b[0m\u001b[0;34m)\u001b[0m\u001b[0;34m\u001b[0m\u001b[0;34m\u001b[0m\u001b[0m\n\u001b[0m\u001b[1;32m      4\u001b[0m \u001b[0;34m\u001b[0m\u001b[0m\n\u001b[1;32m      5\u001b[0m     \u001b[0;31m# Generate features\u001b[0m\u001b[0;34m\u001b[0m\u001b[0;34m\u001b[0m\u001b[0m\n",
            "\u001b[0;32m<ipython-input-6-5887f05e2195>\u001b[0m in \u001b[0;36mload_data\u001b[0;34m(path)\u001b[0m\n\u001b[1;32m      1\u001b[0m \u001b[0;32mdef\u001b[0m \u001b[0mload_data\u001b[0m\u001b[0;34m(\u001b[0m\u001b[0mpath\u001b[0m\u001b[0;34m)\u001b[0m\u001b[0;34m:\u001b[0m\u001b[0;34m\u001b[0m\u001b[0;34m\u001b[0m\u001b[0m\n\u001b[1;32m      2\u001b[0m     \u001b[0;34m\"\"\"Load and preprocess the dataset\"\"\"\u001b[0m\u001b[0;34m\u001b[0m\u001b[0;34m\u001b[0m\u001b[0m\n\u001b[0;32m----> 3\u001b[0;31m     \u001b[0mdf\u001b[0m \u001b[0;34m=\u001b[0m \u001b[0mpd\u001b[0m\u001b[0;34m.\u001b[0m\u001b[0mread_csv\u001b[0m\u001b[0;34m(\u001b[0m\u001b[0mpath\u001b[0m\u001b[0;34m)\u001b[0m\u001b[0;34m\u001b[0m\u001b[0;34m\u001b[0m\u001b[0m\n\u001b[0m\u001b[1;32m      4\u001b[0m \u001b[0;34m\u001b[0m\u001b[0m\n\u001b[1;32m      5\u001b[0m     \u001b[0;31m# Verify necessary columns\u001b[0m\u001b[0;34m\u001b[0m\u001b[0;34m\u001b[0m\u001b[0m\n",
            "\u001b[0;32m/usr/local/lib/python3.11/dist-packages/pandas/io/parsers/readers.py\u001b[0m in \u001b[0;36mread_csv\u001b[0;34m(filepath_or_buffer, sep, delimiter, header, names, index_col, usecols, dtype, engine, converters, true_values, false_values, skipinitialspace, skiprows, skipfooter, nrows, na_values, keep_default_na, na_filter, verbose, skip_blank_lines, parse_dates, infer_datetime_format, keep_date_col, date_parser, date_format, dayfirst, cache_dates, iterator, chunksize, compression, thousands, decimal, lineterminator, quotechar, quoting, doublequote, escapechar, comment, encoding, encoding_errors, dialect, on_bad_lines, delim_whitespace, low_memory, memory_map, float_precision, storage_options, dtype_backend)\u001b[0m\n\u001b[1;32m   1024\u001b[0m     \u001b[0mkwds\u001b[0m\u001b[0;34m.\u001b[0m\u001b[0mupdate\u001b[0m\u001b[0;34m(\u001b[0m\u001b[0mkwds_defaults\u001b[0m\u001b[0;34m)\u001b[0m\u001b[0;34m\u001b[0m\u001b[0;34m\u001b[0m\u001b[0m\n\u001b[1;32m   1025\u001b[0m \u001b[0;34m\u001b[0m\u001b[0m\n\u001b[0;32m-> 1026\u001b[0;31m     \u001b[0;32mreturn\u001b[0m \u001b[0m_read\u001b[0m\u001b[0;34m(\u001b[0m\u001b[0mfilepath_or_buffer\u001b[0m\u001b[0;34m,\u001b[0m \u001b[0mkwds\u001b[0m\u001b[0;34m)\u001b[0m\u001b[0;34m\u001b[0m\u001b[0;34m\u001b[0m\u001b[0m\n\u001b[0m\u001b[1;32m   1027\u001b[0m \u001b[0;34m\u001b[0m\u001b[0m\n\u001b[1;32m   1028\u001b[0m \u001b[0;34m\u001b[0m\u001b[0m\n",
            "\u001b[0;32m/usr/local/lib/python3.11/dist-packages/pandas/io/parsers/readers.py\u001b[0m in \u001b[0;36m_read\u001b[0;34m(filepath_or_buffer, kwds)\u001b[0m\n\u001b[1;32m    618\u001b[0m \u001b[0;34m\u001b[0m\u001b[0m\n\u001b[1;32m    619\u001b[0m     \u001b[0;31m# Create the parser.\u001b[0m\u001b[0;34m\u001b[0m\u001b[0;34m\u001b[0m\u001b[0m\n\u001b[0;32m--> 620\u001b[0;31m     \u001b[0mparser\u001b[0m \u001b[0;34m=\u001b[0m \u001b[0mTextFileReader\u001b[0m\u001b[0;34m(\u001b[0m\u001b[0mfilepath_or_buffer\u001b[0m\u001b[0;34m,\u001b[0m \u001b[0;34m**\u001b[0m\u001b[0mkwds\u001b[0m\u001b[0;34m)\u001b[0m\u001b[0;34m\u001b[0m\u001b[0;34m\u001b[0m\u001b[0m\n\u001b[0m\u001b[1;32m    621\u001b[0m \u001b[0;34m\u001b[0m\u001b[0m\n\u001b[1;32m    622\u001b[0m     \u001b[0;32mif\u001b[0m \u001b[0mchunksize\u001b[0m \u001b[0;32mor\u001b[0m \u001b[0miterator\u001b[0m\u001b[0;34m:\u001b[0m\u001b[0;34m\u001b[0m\u001b[0;34m\u001b[0m\u001b[0m\n",
            "\u001b[0;32m/usr/local/lib/python3.11/dist-packages/pandas/io/parsers/readers.py\u001b[0m in \u001b[0;36m__init__\u001b[0;34m(self, f, engine, **kwds)\u001b[0m\n\u001b[1;32m   1618\u001b[0m \u001b[0;34m\u001b[0m\u001b[0m\n\u001b[1;32m   1619\u001b[0m         \u001b[0mself\u001b[0m\u001b[0;34m.\u001b[0m\u001b[0mhandles\u001b[0m\u001b[0;34m:\u001b[0m \u001b[0mIOHandles\u001b[0m \u001b[0;34m|\u001b[0m \u001b[0;32mNone\u001b[0m \u001b[0;34m=\u001b[0m \u001b[0;32mNone\u001b[0m\u001b[0;34m\u001b[0m\u001b[0;34m\u001b[0m\u001b[0m\n\u001b[0;32m-> 1620\u001b[0;31m         \u001b[0mself\u001b[0m\u001b[0;34m.\u001b[0m\u001b[0m_engine\u001b[0m \u001b[0;34m=\u001b[0m \u001b[0mself\u001b[0m\u001b[0;34m.\u001b[0m\u001b[0m_make_engine\u001b[0m\u001b[0;34m(\u001b[0m\u001b[0mf\u001b[0m\u001b[0;34m,\u001b[0m \u001b[0mself\u001b[0m\u001b[0;34m.\u001b[0m\u001b[0mengine\u001b[0m\u001b[0;34m)\u001b[0m\u001b[0;34m\u001b[0m\u001b[0;34m\u001b[0m\u001b[0m\n\u001b[0m\u001b[1;32m   1621\u001b[0m \u001b[0;34m\u001b[0m\u001b[0m\n\u001b[1;32m   1622\u001b[0m     \u001b[0;32mdef\u001b[0m \u001b[0mclose\u001b[0m\u001b[0;34m(\u001b[0m\u001b[0mself\u001b[0m\u001b[0;34m)\u001b[0m \u001b[0;34m->\u001b[0m \u001b[0;32mNone\u001b[0m\u001b[0;34m:\u001b[0m\u001b[0;34m\u001b[0m\u001b[0;34m\u001b[0m\u001b[0m\n",
            "\u001b[0;32m/usr/local/lib/python3.11/dist-packages/pandas/io/parsers/readers.py\u001b[0m in \u001b[0;36m_make_engine\u001b[0;34m(self, f, engine)\u001b[0m\n\u001b[1;32m   1878\u001b[0m                 \u001b[0;32mif\u001b[0m \u001b[0;34m\"b\"\u001b[0m \u001b[0;32mnot\u001b[0m \u001b[0;32min\u001b[0m \u001b[0mmode\u001b[0m\u001b[0;34m:\u001b[0m\u001b[0;34m\u001b[0m\u001b[0;34m\u001b[0m\u001b[0m\n\u001b[1;32m   1879\u001b[0m                     \u001b[0mmode\u001b[0m \u001b[0;34m+=\u001b[0m \u001b[0;34m\"b\"\u001b[0m\u001b[0;34m\u001b[0m\u001b[0;34m\u001b[0m\u001b[0m\n\u001b[0;32m-> 1880\u001b[0;31m             self.handles = get_handle(\n\u001b[0m\u001b[1;32m   1881\u001b[0m                 \u001b[0mf\u001b[0m\u001b[0;34m,\u001b[0m\u001b[0;34m\u001b[0m\u001b[0;34m\u001b[0m\u001b[0m\n\u001b[1;32m   1882\u001b[0m                 \u001b[0mmode\u001b[0m\u001b[0;34m,\u001b[0m\u001b[0;34m\u001b[0m\u001b[0;34m\u001b[0m\u001b[0m\n",
            "\u001b[0;32m/usr/local/lib/python3.11/dist-packages/pandas/io/common.py\u001b[0m in \u001b[0;36mget_handle\u001b[0;34m(path_or_buf, mode, encoding, compression, memory_map, is_text, errors, storage_options)\u001b[0m\n\u001b[1;32m    871\u001b[0m         \u001b[0;32mif\u001b[0m \u001b[0mioargs\u001b[0m\u001b[0;34m.\u001b[0m\u001b[0mencoding\u001b[0m \u001b[0;32mand\u001b[0m \u001b[0;34m\"b\"\u001b[0m \u001b[0;32mnot\u001b[0m \u001b[0;32min\u001b[0m \u001b[0mioargs\u001b[0m\u001b[0;34m.\u001b[0m\u001b[0mmode\u001b[0m\u001b[0;34m:\u001b[0m\u001b[0;34m\u001b[0m\u001b[0;34m\u001b[0m\u001b[0m\n\u001b[1;32m    872\u001b[0m             \u001b[0;31m# Encoding\u001b[0m\u001b[0;34m\u001b[0m\u001b[0;34m\u001b[0m\u001b[0m\n\u001b[0;32m--> 873\u001b[0;31m             handle = open(\n\u001b[0m\u001b[1;32m    874\u001b[0m                 \u001b[0mhandle\u001b[0m\u001b[0;34m,\u001b[0m\u001b[0;34m\u001b[0m\u001b[0;34m\u001b[0m\u001b[0m\n\u001b[1;32m    875\u001b[0m                 \u001b[0mioargs\u001b[0m\u001b[0;34m.\u001b[0m\u001b[0mmode\u001b[0m\u001b[0;34m,\u001b[0m\u001b[0;34m\u001b[0m\u001b[0;34m\u001b[0m\u001b[0m\n",
            "\u001b[0;31mFileNotFoundError\u001b[0m: [Errno 2] No such file or directory: '/content/drive/My Drive/NLP/modified_balanced_job_dataset.csv'"
          ]
        }
      ]
    },
    {
      "cell_type": "markdown",
      "source": [
        "# **6. save your models during training**"
      ],
      "metadata": {
        "id": "Qo7tWrW6njYB"
      }
    },
    {
      "cell_type": "code",
      "source": [
        "import joblib\n",
        "from sklearn.feature_extraction.text import TfidfVectorizer, CountVectorizer\n",
        "from xgboost import XGBClassifier\n",
        "from sklearn.linear_model import LogisticRegression\n",
        "from sklearn.ensemble import RandomForestClassifier\n",
        "from sklearn.naive_bayes import MultinomialNB\n",
        "\n",
        "# Example training data (replace with your actual data)\n",
        "texts = [\"python developer\", \"java programmer\", \"data scientist\", \"web designer\"]\n",
        "labels = [1, 1, 0, 0]  # 1=technical, 0=non-technical\n",
        "\n",
        "# Create and save vectorizers\n",
        "tfidf_vectorizer = TfidfVectorizer().fit(texts)\n",
        "bow_vectorizer = CountVectorizer().fit(texts)\n",
        "joblib.dump(tfidf_vectorizer, 'tfidf_vectorizer.pkl')\n",
        "joblib.dump(bow_vectorizer, 'bow_vectorizer.pkl')\n",
        "\n",
        "# Train and save models\n",
        "X_tfidf = tfidf_vectorizer.transform(texts)\n",
        "\n",
        "models = {\n",
        "    'xgboost_model': XGBClassifier().fit(X_tfidf, labels),\n",
        "    'logistic_regression_model': LogisticRegression().fit(X_tfidf, labels),\n",
        "    'random_forest_model': RandomForestClassifier().fit(X_tfidf, labels),\n",
        "    'naive_bayes_model': MultinomialNB().fit(X_tfidf, labels)\n",
        "}\n",
        "\n",
        "for name, model in models.items():\n",
        "    joblib.dump(model, f'{name}.pkl')\n",
        "\n",
        "print(\"All models saved successfully!\")"
      ],
      "metadata": {
        "colab": {
          "base_uri": "https://localhost:8080/"
        },
        "id": "UpE34AbLfsqf",
        "outputId": "b6bd6d3c-7dc9-4541-a5b4-e66d5283863b"
      },
      "execution_count": null,
      "outputs": [
        {
          "output_type": "stream",
          "name": "stdout",
          "text": [
            "All models saved successfully!\n"
          ]
        }
      ]
    },
    {
      "cell_type": "markdown",
      "source": [
        "# **7. run the prediction script**"
      ],
      "metadata": {
        "id": "Nskc88donvx4"
      }
    },
    {
      "cell_type": "code",
      "source": [
        "import joblib\n",
        "import re\n",
        "\n",
        "# 1. Load all models\n",
        "try:\n",
        "    xgb_model = joblib.load('xgboost_model.pkl')\n",
        "    lr_model = joblib.load('logistic_regression_model.pkl')\n",
        "    rf_model = joblib.load('random_forest_model.pkl')\n",
        "    nb_model = joblib.load('naive_bayes_model.pkl')\n",
        "\n",
        "    # Load vectorizers\n",
        "    tfidf_vectorizer = joblib.load('tfidf_vectorizer.pkl')\n",
        "    bow_vectorizer = joblib.load('bow_vectorizer.pkl')\n",
        "\n",
        "    print(\"All models loaded successfully!\")\n",
        "except FileNotFoundError as e:\n",
        "    print(f\"Error: {e}\\nPlease run the training script first to create model files.\")\n",
        "    exit()\n",
        "\n",
        "# 2. Text cleaning function\n",
        "def clean_text(text):\n",
        "    text = text.lower()\n",
        "    text = re.sub(r'[^a-zA-Z\\s]', '', text)\n",
        "    return text\n",
        "\n",
        "# 3. Prediction function\n",
        "def predict_job(text):\n",
        "    cleaned = clean_text(text)\n",
        "\n",
        "    # TF-IDF features\n",
        "    tfidf_features = tfidf_vectorizer.transform([cleaned])\n",
        "\n",
        "    # Make predictions\n",
        "    xgb_pred = xgb_model.predict(tfidf_features)[0]\n",
        "    lr_pred = lr_model.predict(tfidf_features)[0]\n",
        "    rf_pred = rf_model.predict(tfidf_features)[0]\n",
        "    nb_pred = nb_model.predict(tfidf_features)[0]\n",
        "\n",
        "    return {\n",
        "        'XGBoost': xgb_pred,\n",
        "        'Logistic Regression': lr_pred,\n",
        "        'Random Forest': rf_pred,\n",
        "        'Naive Bayes': nb_pred\n",
        "    }\n",
        "\n",
        "# 4. Example usage\n",
        "sample_job = \"I have strong skills of Docker with experience of 1-3 years in the field of Retail also I have completed my education with a Bachelor's in Computer Science or a related field as well as I am proficient in using tools like Docker and AWS to solve problems in Retail.\"\n",
        "predictions = predict_job(sample_job)\n",
        "\n",
        "print(f\"\\nPredictions for: '{sample_job}'\")\n",
        "for model, pred in predictions.items():\n",
        "    print(f\"{model}: {'Technical' if pred == 1 else 'Non-technical'}\")"
      ],
      "metadata": {
        "colab": {
          "base_uri": "https://localhost:8080/"
        },
        "id": "zTh3qo5Tk04n",
        "outputId": "277c5a1e-6d48-40c8-c25a-3e69c9465496"
      },
      "execution_count": null,
      "outputs": [
        {
          "output_type": "stream",
          "name": "stdout",
          "text": [
            "All models loaded successfully!\n",
            "\n",
            "Predictions for: 'I have strong skills of Docker with experience of 1-3 years in the field of Retail also I have completed my education with a Bachelor's in Computer Science or a related field as well as I am proficient in using tools like Docker and AWS to solve problems in Retail.'\n",
            "XGBoost: Non-technical\n",
            "Logistic Regression: Non-technical\n",
            "Random Forest: Technical\n",
            "Naive Bayes: Non-technical\n"
          ]
        }
      ]
    },
    {
      "cell_type": "code",
      "source": [
        "\n",
        "def clean_text(text):\n",
        "    \"\"\"Basic text cleaning for visualization\"\"\"\n",
        "    if pd.isna(text):\n",
        "        return \"\"\n",
        "    text = str(text).lower()\n",
        "    text = re.sub(r'[^a-zA-Z\\s]', '', text)\n",
        "    return text\n",
        "\n",
        "def perform_job_eda(df, target_col='Relevance', text_col='Description'):\n",
        "    \"\"\"\n",
        "    Robust EDA that will definitely show output\n",
        "    \"\"\"\n",
        "    # 1. Basic Dataset Info\n",
        "    print(\"📊 BASIC DATASET INFORMATION\")\n",
        "    print(\"=\"*50)\n",
        "    print(f\"Total samples: {len(df)}\")\n",
        "    print(f\"Columns: {df.columns.tolist()}\")\n",
        "    print(\"\\nMissing values:\")\n",
        "    print(df.isna().sum())\n",
        "    print(\"\\nData types:\")\n",
        "    print(df.dtypes)\n",
        "\n",
        "    # Show sample descriptions\n",
        "    print(\"\\nSample job descriptions:\")\n",
        "    sample = df.sample(3, random_state=42)\n",
        "    for i, row in sample.iterrows():\n",
        "        print(f\"\\nSample {i}:\")\n",
        "        print(f\"Category: {row[target_col]}\")\n",
        "        print(f\"Text: {row[text_col][:200]}...\")  # Show first 200 chars\n",
        "\n",
        "    # 2. Target Distribution Analysis\n",
        "    print(\"\\n🎯 TARGET CLASS DISTRIBUTION\")\n",
        "    print(\"=\"*50)\n",
        "    plt.figure(figsize=(10,5))\n",
        "    ax = sns.countplot(x=target_col, data=df,\n",
        "                      order=df[target_col].value_counts().index)\n",
        "    plt.title(\"Distribution of Job Categories\", fontsize=14)\n",
        "    plt.xticks(rotation=45)\n",
        "\n",
        "    # Add percentages\n",
        "    total = len(df)\n",
        "    for p in ax.patches:\n",
        "        height = p.get_height()\n",
        "        ax.text(p.get_x()+p.get_width()/2., height + 5,\n",
        "                f'{height/total:.1%}',\n",
        "                ha='center', fontsize=10)\n",
        "    plt.show()\n",
        "\n",
        "    # 3. Text Length Analysis\n",
        "    print(\"\\n📏 TEXT LENGTH ANALYSIS\")\n",
        "    print(\"=\"*50)\n",
        "    df['char_count'] = df[text_col].apply(lambda x: len(str(x)))\n",
        "    df['word_count'] = df[text_col].apply(lambda x: len(str(x).split()))\n",
        "\n",
        "    fig, axes = plt.subplots(1, 2, figsize=(15,5))\n",
        "    sns.boxplot(x=target_col, y='word_count', data=df, ax=axes[0])\n",
        "    axes[0].set_title(\"Word Count by Category\")\n",
        "    axes[0].tick_params(axis='x', rotation=45)\n",
        "\n",
        "    sns.histplot(df['word_count'], bins=50, kde=True, ax=axes[1])\n",
        "    axes[1].set_title(\"Overall Word Count Distribution\")\n",
        "    plt.tight_layout()\n",
        "    plt.show()\n",
        "\n",
        "    # 4. Word Clouds by Category\n",
        "    print(\"\\n☁️ WORD CLOUDS BY CATEGORY\")\n",
        "    print(\"=\"*50)\n",
        "    for category in df[target_col].unique():\n",
        "        text = ' '.join(df[df[target_col]==category][text_col].apply(clean_text))\n",
        "        if len(text) > 0:  # Only generate if text exists\n",
        "            wordcloud = WordCloud(width=800, height=400,\n",
        "                                background_color='white',\n",
        "                                max_words=100).generate(text)\n",
        "\n",
        "            plt.figure(figsize=(10,5))\n",
        "            plt.imshow(wordcloud, interpolation='bilinear')\n",
        "            plt.title(f\"Most Common Words: {category}\", fontsize=14)\n",
        "            plt.axis('off')\n",
        "            plt.show()\n",
        "\n",
        "    # 5. Top Keywords Analysis\n",
        "    print(\"\\n🔑 TOP KEYWORDS BY CATEGORY\")\n",
        "    print(\"=\"*50)\n",
        "    for category in df[target_col].unique():\n",
        "        category_texts = df[df[target_col]==category][text_col].apply(clean_text)\n",
        "        if len(category_texts) > 0:  # Only process if data exists\n",
        "            cv = CountVectorizer(stop_words='english', max_features=20)\n",
        "            try:\n",
        "                cv.fit(category_texts)\n",
        "                top_words = cv.get_feature_names_out()\n",
        "                print(f\"\\nCategory: {category}\")\n",
        "                print(\"Top keywords:\", \", \".join(top_words))\n",
        "            except:\n",
        "                print(f\"\\nCategory: {category} - Not enough text data\")\n",
        "\n",
        "    print(\"\\n✅ EDA COMPLETED\")\n",
        "\n",
        "# Usage example:\n",
        "# perform_job_eda(your_dataframe)\n"
      ],
      "metadata": {
        "id": "sUnX_GdumPQM"
      },
      "execution_count": null,
      "outputs": []
    },
    {
      "cell_type": "code",
      "source": [
        "!pip install matplotlib seaborn wordcloud scikit-learn\n"
      ],
      "metadata": {
        "colab": {
          "base_uri": "https://localhost:8080/"
        },
        "id": "lQJ-B3PK4Vhw",
        "outputId": "7657673c-7314-42a3-a568-befe730a63c8"
      },
      "execution_count": null,
      "outputs": [
        {
          "output_type": "stream",
          "name": "stdout",
          "text": [
            "Requirement already satisfied: matplotlib in /usr/local/lib/python3.11/dist-packages (3.10.0)\n",
            "Requirement already satisfied: seaborn in /usr/local/lib/python3.11/dist-packages (0.13.2)\n",
            "Requirement already satisfied: wordcloud in /usr/local/lib/python3.11/dist-packages (1.9.4)\n",
            "Requirement already satisfied: scikit-learn in /usr/local/lib/python3.11/dist-packages (1.6.1)\n",
            "Requirement already satisfied: contourpy>=1.0.1 in /usr/local/lib/python3.11/dist-packages (from matplotlib) (1.3.1)\n",
            "Requirement already satisfied: cycler>=0.10 in /usr/local/lib/python3.11/dist-packages (from matplotlib) (0.12.1)\n",
            "Requirement already satisfied: fonttools>=4.22.0 in /usr/local/lib/python3.11/dist-packages (from matplotlib) (4.56.0)\n",
            "Requirement already satisfied: kiwisolver>=1.3.1 in /usr/local/lib/python3.11/dist-packages (from matplotlib) (1.4.8)\n",
            "Requirement already satisfied: numpy>=1.23 in /usr/local/lib/python3.11/dist-packages (from matplotlib) (2.0.2)\n",
            "Requirement already satisfied: packaging>=20.0 in /usr/local/lib/python3.11/dist-packages (from matplotlib) (24.2)\n",
            "Requirement already satisfied: pillow>=8 in /usr/local/lib/python3.11/dist-packages (from matplotlib) (11.1.0)\n",
            "Requirement already satisfied: pyparsing>=2.3.1 in /usr/local/lib/python3.11/dist-packages (from matplotlib) (3.2.1)\n",
            "Requirement already satisfied: python-dateutil>=2.7 in /usr/local/lib/python3.11/dist-packages (from matplotlib) (2.8.2)\n",
            "Requirement already satisfied: pandas>=1.2 in /usr/local/lib/python3.11/dist-packages (from seaborn) (2.2.2)\n",
            "Requirement already satisfied: scipy>=1.6.0 in /usr/local/lib/python3.11/dist-packages (from scikit-learn) (1.14.1)\n",
            "Requirement already satisfied: joblib>=1.2.0 in /usr/local/lib/python3.11/dist-packages (from scikit-learn) (1.4.2)\n",
            "Requirement already satisfied: threadpoolctl>=3.1.0 in /usr/local/lib/python3.11/dist-packages (from scikit-learn) (3.6.0)\n",
            "Requirement already satisfied: pytz>=2020.1 in /usr/local/lib/python3.11/dist-packages (from pandas>=1.2->seaborn) (2025.1)\n",
            "Requirement already satisfied: tzdata>=2022.7 in /usr/local/lib/python3.11/dist-packages (from pandas>=1.2->seaborn) (2025.1)\n",
            "Requirement already satisfied: six>=1.5 in /usr/local/lib/python3.11/dist-packages (from python-dateutil>=2.7->matplotlib) (1.17.0)\n"
          ]
        }
      ]
    },
    {
      "cell_type": "markdown",
      "source": [
        "# **Exploratory Data Analysis (EDA)**"
      ],
      "metadata": {
        "id": "oCemkO0j5xhr"
      }
    },
    {
      "cell_type": "code",
      "source": [
        "import pandas as pd\n",
        "import matplotlib.pyplot as plt\n",
        "import seaborn as sns\n",
        "from wordcloud import WordCloud\n",
        "import re\n",
        "\n",
        "# Create a simple example DataFrame\n",
        "data = {\n",
        "    'Relevance': ['High', 'Low', 'Medium', 'High', 'Low', 'Medium', 'High'],\n",
        "    'Description': ['Job 1 description', 'Job 2 description', 'Job 3 description',\n",
        "                    'Job 4 description', 'Job 5 description', 'Job 6 description', 'Job 7 description']\n",
        "}\n",
        "\n",
        "df = pd.DataFrame(data)\n",
        "\n",
        "# Define the column name for the target (Relevance)\n",
        "target_col = 'Relevance'\n",
        "text_col = 'Description'\n",
        "\n",
        "# 1. Simple Target Distribution Plot\n",
        "print(\"🎯 TARGET CLASS DISTRIBUTION\")\n",
        "print(\"=\"*50)\n",
        "plt.figure(figsize=(10,5))\n",
        "ax = sns.countplot(x=target_col, data=df,\n",
        "                   order=df[target_col].value_counts().index)\n",
        "plt.title(\"Distribution of Job Categories\", fontsize=14)\n",
        "plt.xticks(rotation=45)\n",
        "plt.show()\n",
        "\n",
        "# 2. Text Length Analysis (Word Count by Category)\n",
        "print(\"\\n📏 TEXT LENGTH ANALYSIS\")\n",
        "print(\"=\"*50)\n",
        "\n",
        "# Adding word count and character count columns\n",
        "df['char_count'] = df[text_col].apply(lambda x: len(str(x)))\n",
        "df['word_count'] = df[text_col].apply(lambda x: len(str(x).split()))\n",
        "\n",
        "# Boxplot for word count by category\n",
        "plt.figure(figsize=(10, 5))\n",
        "sns.boxplot(x=target_col, y='word_count', data=df)\n",
        "plt.title(\"Word Count by Category\", fontsize=14)\n",
        "plt.xticks(rotation=45)\n",
        "plt.show()\n",
        "\n",
        "# Histogram for overall word count distribution\n",
        "plt.figure(figsize=(10, 5))\n",
        "sns.histplot(df['word_count'], bins=10, kde=True)\n",
        "plt.title(\"Overall Word Count Distribution\", fontsize=14)\n",
        "plt.show()\n",
        "\n",
        "# 3. Word Cloud by Category (For \"High\" category)\n",
        "print(\"\\n☁️ WORD CLOUD FOR 'High' CATEGORY\")\n",
        "print(\"=\"*50)\n",
        "text = ' '.join(df[df[target_col]=='High'][text_col].apply(lambda x: str(x).lower()))  # Cleaning text\n",
        "wordcloud = WordCloud(width=800, height=400, background_color='white', max_words=100).generate(text)\n",
        "\n",
        "plt.figure(figsize=(10,5))\n",
        "plt.imshow(wordcloud, interpolation='bilinear')\n",
        "plt.title(\"Most Common Words: High\", fontsize=14)\n",
        "plt.axis('off')\n",
        "plt.show()\n",
        "\n",
        "# 4. Top Keywords by Category (Using CountVectorizer)\n",
        "print(\"\\n🔑 TOP KEYWORDS BY CATEGORY\")\n",
        "print(\"=\"*50)\n",
        "\n",
        "from sklearn.feature_extraction.text import CountVectorizer\n",
        "\n",
        "for category in df[target_col].unique():\n",
        "    category_texts = df[df[target_col]==category][text_col].apply(lambda x: str(x).lower())\n",
        "    cv = CountVectorizer(stop_words='english', max_features=5)  # Limiting to top 5 words\n",
        "    cv.fit(category_texts)\n",
        "    top_words = cv.get_feature_names_out()\n",
        "\n",
        "    print(f\"\\nCategory: {category}\")\n",
        "    print(\"Top keywords:\", \", \".join(top_words))\n",
        "\n"
      ],
      "metadata": {
        "colab": {
          "base_uri": "https://localhost:8080/",
          "height": 1000
        },
        "id": "FlJzl0Tx4lUW",
        "outputId": "f6a15752-ab5f-4f67-b1ca-c08f568155c6"
      },
      "execution_count": null,
      "outputs": [
        {
          "output_type": "stream",
          "name": "stdout",
          "text": [
            "🎯 TARGET CLASS DISTRIBUTION\n",
            "==================================================\n"
          ]
        },
        {
          "output_type": "display_data",
          "data": {
            "text/plain": [
              "<Figure size 1000x500 with 1 Axes>"
            ],
            "image/png": "[encoded data removed]"
          },
          "metadata": {}
        },
        {
          "output_type": "stream",
          "name": "stdout",
          "text": [
            "\n",
            "📏 TEXT LENGTH ANALYSIS\n",
            "==================================================\n"
          ]
        },
        {
          "output_type": "display_data",
          "data": {
            "text/plain": [
              "<Figure size 1000x500 with 1 Axes>"
            ],
            "image/png": "[encoded data removed]"
          },
          "metadata": {}
        },
        {
          "output_type": "display_data",
          "data": {
            "text/plain": [
              "<Figure size 1000x500 with 1 Axes>"
            ],
            "image/png": "[encoded data removed]"
          },
          "metadata": {}
        },
        {
          "output_type": "stream",
          "name": "stdout",
          "text": [
            "\n",
            "☁️ WORD CLOUD FOR 'High' CATEGORY\n",
            "==================================================\n"
          ]
        },
        {
          "output_type": "display_data",
          "data": {
            "text/plain": [
              "<Figure size 1000x500 with 1 Axes>"
            ],
            "image/png": "[encoded data removed]"
          },
          "metadata": {}
        },
        {
          "output_type": "stream",
          "name": "stdout",
          "text": [
            "\n",
            "🔑 TOP KEYWORDS BY CATEGORY\n",
            "==================================================\n",
            "\n",
            "Category: High\n",
            "Top keywords: description, job\n",
            "\n",
            "Category: Low\n",
            "Top keywords: description, job\n",
            "\n",
            "Category: Medium\n",
            "Top keywords: description, job\n"
          ]
        }
      ]
    },
    {
      "cell_type": "code",
      "source": [],
      "metadata": {
        "id": "x7lkOCvX4olN"
      },
      "execution_count": null,
      "outputs": []
    }
  ]
}